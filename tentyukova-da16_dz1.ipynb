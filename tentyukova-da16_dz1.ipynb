{
 "cells": [
  {
   "cell_type": "code",
   "execution_count": 1,
   "metadata": {},
   "outputs": [
    {
     "name": "stdout",
     "output_type": "stream",
     "text": [
      "Фраза 1 длиннее фразы 2\n"
     ]
    }
   ],
   "source": [
    "phrase_1 = 'Насколько проще было бы писать программы, если бы не заказчики'\n",
    "phrase_2 = '640Кб должно хватить для любых задач. Билл Гейтс (по легенде)'\n",
    "\n",
    "if phrase_1 > phrase_2:\n",
    "    print('Фраза 1 длиннее фразы 2')"
   ]
  },
  {
   "cell_type": "code",
   "execution_count": 2,
   "metadata": {},
   "outputs": [
    {
     "name": "stdout",
     "output_type": "stream",
     "text": [
      "Фраза 2 длиннее фразы 1\n"
     ]
    }
   ],
   "source": [
    "phrase_1 = '640Кб должно хватить для любых задач. Билл Гейтс (по легенде)'\n",
    "phrase_2 = 'Насколько проще было бы писать программы, если бы не заказчики'\n",
    "\n",
    "if phrase_1 < phrase_2:\n",
    "    print('Фраза 2 длиннее фразы 1')"
   ]
  },
  {
   "cell_type": "code",
   "execution_count": 3,
   "metadata": {},
   "outputs": [
    {
     "name": "stdout",
     "output_type": "stream",
     "text": [
      "Фразы равной длины\n"
     ]
    }
   ],
   "source": [
    "phrase_1 = 'Насколько проще было бы писать программы, если бы не заказчики'\n",
    "phrase_2 = 'Насколько проще было бы писать программы, если бы не заказчики'\n",
    "\n",
    "if phrase_1 == phrase_2:\n",
    "    print('Фразы равной длины')"
   ]
  },
  {
   "cell_type": "code",
   "execution_count": 12,
   "metadata": {},
   "outputs": [
    {
     "name": "stdout",
     "output_type": "stream",
     "text": [
      "2020 високосный год\n"
     ]
    }
   ],
   "source": [
    "x = 2020\n",
    "if x%4 == 0:\n",
    "    print (x, 'високосный год')\n",
    "else:\n",
    "    print (x, 'обычный год')"
   ]
  },
  {
   "cell_type": "code",
   "execution_count": 15,
   "metadata": {},
   "outputs": [
    {
     "name": "stdout",
     "output_type": "stream",
     "text": [
      "Введите день 23\n",
      "Введите месяц Октябрь\n",
      "Ваш знак зодиака: Весы\n"
     ]
    }
   ],
   "source": [
    "day = int(input('Введите день '))\n",
    "month = input('Введите месяц ')\n",
    "if (day >= 21 and day <= 31 and month == 'Март') or (day >= 1 and day <= 20 and month == 'Апрель'):\n",
    "    print ('Ваш знак зодиака: Овен')\n",
    "elif (day >= 21 and day <= 30 and month == 'Апрель') or (day >= 1 and day <= 21 and month == 'Май'):\n",
    "    print ('Ваш знак зодиака: Телец')\n",
    "elif (day >= 22 and day <= 31 and month == 'Май') or (day >= 1 and day <= 21 and month == 'Июнь'):\n",
    "    print ('Ваш знак зодиака: Близнецы')\n",
    "elif (day >= 22 and day <= 30 and month == 'Июнь') or (day >= 1 and day <= 22 and month == 'Июль'):\n",
    "    print ('Ваш знак зодиака: Рак')\n",
    "elif (day >= 23 and day <= 31 and month == 'Июль') or (day >= 1 and day <= 21 and month == 'Август'):\n",
    "    print ('Ваш знак зодиака: Лев')\n",
    "elif (day >= 22 and day <= 31 and month == 'Август') or (day >= 1 and day <= 23 and month == 'Сентябрь'):\n",
    "    print ('Ваш знак зодиака: Дева')\n",
    "elif (day >= 24 and day <= 30 and month == 'Сентябрь') or (day >= 1 and day <= 23 and month == 'Октябрь'):\n",
    "    print ('Ваш знак зодиака: Весы')\n",
    "elif (day >= 24 and day <= 31 and month == 'Октябрь') or (day >= 1 and day <= 22 and month == 'Ноябрь'):\n",
    "    print ('Ваш знак зодиака: Скорпион')\n",
    "elif (day >= 23 and day <= 30 and month == 'Ноябрь') or (day >= 1 and day <= 22 and month == 'Декабрь'):\n",
    "    print ('Ваш знак зодиака: Стрелец')\n",
    "elif (day >= 23 and day <= 31 and month == 'Декабрь') or (day >= 1 and day <= 20 and month == 'Январь'):\n",
    "    print ('Ваш знак зодиака: Козерог')\n",
    "elif (day >= 21 and day <= 31 and month == 'Январь') or (day >= 1 and day <= 19 and month == 'Февраль'):\n",
    "    print ('Ваш знак зодиака: Водолей')\n",
    "elif (day >= 20 and day <= 29 and month == 'Февраль') or (day >= 1 and day <= 20 and month == 'Март'):\n",
    "    print ('Ваш знак зодиака: Рыбы')"
   ]
  },
  {
   "cell_type": "code",
   "execution_count": 33,
   "metadata": {},
   "outputs": [
    {
     "name": "stdout",
     "output_type": "stream",
     "text": [
      "Стандартная коробка №3\n"
     ]
    }
   ],
   "source": [
    "width = 20\n",
    "length = 69\n",
    "height = 50\n",
    "if width <= 15 and length <= 15 and height <= 15:\n",
    "    print ('Коробка №1')\n",
    "elif (15 <= width <= 50) and (15 <= length <= 50) and (15 <= height <= 50):\n",
    "    print ('Коробка №2')\n",
    "elif length >= 200:\n",
    "    print ('Упаковка для лыж')\n",
    "else:\n",
    "    print ('Стандартная коробка №3')"
   ]
  }
 ],
 "metadata": {
  "kernelspec": {
   "display_name": "Python 3",
   "language": "python",
   "name": "python3"
  },
  "language_info": {
   "codemirror_mode": {
    "name": "ipython",
    "version": 3
   },
   "file_extension": ".py",
   "mimetype": "text/x-python",
   "name": "python",
   "nbconvert_exporter": "python",
   "pygments_lexer": "ipython3",
   "version": "3.8.3"
  }
 },
 "nbformat": 4,
 "nbformat_minor": 4
}
