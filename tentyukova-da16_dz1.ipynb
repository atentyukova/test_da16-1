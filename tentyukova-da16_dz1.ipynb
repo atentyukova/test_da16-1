{
 "cells": [
  {
   "cell_type": "code",
   "execution_count": 3,
   "metadata": {},
   "outputs": [
    {
     "name": "stdout",
     "output_type": "stream",
     "text": [
      "Фразы равной длины\n"
     ]
    }
   ],
   "source": [
    "phrase_1 = '640Кб должно хватить для любых задач. Билл Гейтс (по легенде)'\n",
    "phrase_2 = '640Кб должно хватить для любых задач. Билл Гейтс (по легенде)'\n",
    "\n",
    "if phrase_1 > phrase_2:\n",
    "    print('Фраза 1 длиннее фразы 2')\n",
    "elif phrase_1 < phrase_2:\n",
    "    print('Фраза 2 длиннее фразы 1')\n",
    "elif phrase_1 == phrase_2:\n",
    "    print('Фразы равной длины')"
   ]
  },
  {
   "cell_type": "code",
   "execution_count": 14,
   "metadata": {},
   "outputs": [
    {
     "name": "stdout",
     "output_type": "stream",
     "text": [
      "1996 високосный год\n"
     ]
    }
   ],
   "source": [
    "x = 1996\n",
    "if x%4 == 0 or x%400 == 0:\n",
    "    print(x, 'високосный год')\n",
    "else:\n",
    "    print(x, 'обычный год')"
   ]
  },
  {
   "cell_type": "code",
   "execution_count": 15,
   "metadata": {},
   "outputs": [
    {
     "name": "stdout",
     "output_type": "stream",
     "text": [
      "Введите день 23\n",
      "Введите месяц Октябрь\n",
      "Ваш знак зодиака: Весы\n"
     ]
    }
   ],
   "source": [
    "day = int(input('Введите день '))\n",
    "month = input('Введите месяц ')\n",
    "if (day >= 21 and day <= 31 and month == 'Март') or (day >= 1 and day <= 20 and month == 'Апрель'):\n",
    "    print('Ваш знак зодиака: Овен')\n",
    "elif (day >= 21 and day <= 30 and month == 'Апрель') or (day >= 1 and day <= 21 and month == 'Май'):\n",
    "    print('Ваш знак зодиака: Телец')\n",
    "elif (day >= 22 and day <= 31 and month == 'Май') or (day >= 1 and day <= 21 and month == 'Июнь'):\n",
    "    print('Ваш знак зодиака: Близнецы')\n",
    "elif (day >= 22 and day <= 30 and month == 'Июнь') or (day >= 1 and day <= 22 and month == 'Июль'):\n",
    "    print('Ваш знак зодиака: Рак')\n",
    "elif (day >= 23 and day <= 31 and month == 'Июль') or (day >= 1 and day <= 21 and month == 'Август'):\n",
    "    print('Ваш знак зодиака: Лев')\n",
    "elif (day >= 22 and day <= 31 and month == 'Август') or (day >= 1 and day <= 23 and month == 'Сентябрь'):\n",
    "    print('Ваш знак зодиака: Дева')\n",
    "elif (day >= 24 and day <= 30 and month == 'Сентябрь') or (day >= 1 and day <= 23 and month == 'Октябрь'):\n",
    "    print('Ваш знак зодиака: Весы')\n",
    "elif (day >= 24 and day <= 31 and month == 'Октябрь') or (day >= 1 and day <= 22 and month == 'Ноябрь'):\n",
    "    print('Ваш знак зодиака: Скорпион')\n",
    "elif (day >= 23 and day <= 30 and month == 'Ноябрь') or (day >= 1 and day <= 22 and month == 'Декабрь'):\n",
    "    print('Ваш знак зодиака: Стрелец')\n",
    "elif (day >= 23 and day <= 31 and month == 'Декабрь') or (day >= 1 and day <= 20 and month == 'Январь'):\n",
    "    print('Ваш знак зодиака: Козерог')\n",
    "elif (day >= 21 and day <= 31 and month == 'Январь') or (day >= 1 and day <= 19 and month == 'Февраль'):\n",
    "    print('Ваш знак зодиака: Водолей')\n",
    "elif (day >= 20 and day <= 29 and month == 'Февраль') or (day >= 1 and day <= 20 and month == 'Март'):\n",
    "    print('Ваш знак зодиака: Рыбы')"
   ]
  },
  {
   "cell_type": "code",
   "execution_count": 20,
   "metadata": {},
   "outputs": [
    {
     "name": "stdout",
     "output_type": "stream",
     "text": [
      "Упаковка для лыж\n"
     ]
    }
   ],
   "source": [
    "width = 45\n",
    "length = 205\n",
    "height = 45\n",
    "if width <= 15 and length <= 15 and height <= 15:\n",
    "    print('Коробка №1')\n",
    "elif (width <= 15 and width <= 50) or (length <= 15 and length <= 50) or (height <= 15 and height <= 50):\n",
    "    print('Коробка №2')\n",
    "elif length >= 200:\n",
    "    print('Упаковка для лыж')\n",
    "else:\n",
    "    print('Стандартная коробка №3')"
   ]
  },
  {
   "cell_type": "code",
   "execution_count": null,
   "metadata": {},
   "outputs": [],
   "source": []
  }
 ],
 "metadata": {
  "kernelspec": {
   "display_name": "Python 3",
   "language": "python",
   "name": "python3"
  },
  "language_info": {
   "codemirror_mode": {
    "name": "ipython",
    "version": 3
   },
   "file_extension": ".py",
   "mimetype": "text/x-python",
   "name": "python",
   "nbconvert_exporter": "python",
   "pygments_lexer": "ipython3",
   "version": "3.8.3"
  }
 },
 "nbformat": 4,
 "nbformat_minor": 4
}
