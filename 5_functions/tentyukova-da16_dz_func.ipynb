{
 "cells": [
  {
   "cell_type": "code",
   "execution_count": 1,
   "metadata": {},
   "outputs": [],
   "source": [
    "# перечень всех документов\n",
    "documents = [\n",
    " {'type': 'passport', 'number': '2207 876234', 'name': 'Василий Гупкин'},\n",
    " {'type': 'invoice', 'number': '11-2', 'name': 'Геннадий Покемонов'},\n",
    " {'type': 'insurance', 'number': '10006', 'name': 'Аристарх Павлов'}\n",
    "]"
   ]
  },
  {
   "cell_type": "code",
   "execution_count": 2,
   "metadata": {},
   "outputs": [],
   "source": [
    "# перечень полок, на которых хранятся документы (если документ есть в documents, то он обязательно должен быть и в directories)\n",
    "directories = {\n",
    " '1': ['2207 876234', '11-2'],\n",
    " '2': ['10006'],\n",
    " '3': []\n",
    "}"
   ]
  },
  {
   "cell_type": "code",
   "execution_count": 3,
   "metadata": {},
   "outputs": [
    {
     "name": "stdout",
     "output_type": "stream",
     "text": [
      "Введите номер документа: 11-2\n",
      "Владелец документа:  Геннадий Покемонов\n"
     ]
    }
   ],
   "source": [
    "# Пункт 1. Пользователь по команде \"p\" может узнать владельца документа по его номеру\n",
    "\n",
    "def owner_by_number():\n",
    "    user_input = input('Введите номер документа: ')\n",
    "    for employee in documents:\n",
    "        if user_input == employee['number']:\n",
    "            print('Владелец документа: ', employee['name'])\n",
    "            return\n",
    "    return 'Документ не найден в базе'\n",
    "\n",
    "owner_by_number()"
   ]
  },
  {
   "cell_type": "code",
   "execution_count": 4,
   "metadata": {},
   "outputs": [
    {
     "name": "stdout",
     "output_type": "stream",
     "text": [
      "Введите номер документа: 11-2\n",
      "Документ находится на полке: 1\n"
     ]
    }
   ],
   "source": [
    "# Пункт 2. Пользователь по команде \"s\" может по номеру документа узнать на какой полке он хранится\n",
    "\n",
    "def shelf_by_number():\n",
    "    user_input = input('Введите номер документа: ')\n",
    "    for shelf, docs in directories.items():\n",
    "        if user_input in docs:\n",
    "            print(f\"Документ находится на полке: {shelf}\")\n",
    "            return\n",
    "    return 'Документ не найден в базе'\n",
    "\n",
    "shelf_by_number()"
   ]
  },
  {
   "cell_type": "code",
   "execution_count": 5,
   "metadata": {},
   "outputs": [
    {
     "name": "stdout",
     "output_type": "stream",
     "text": [
      "№ 2207 876234, тип: passport, владелец: Василий Гупкин, полка хранения: 1\n",
      "№ 11-2, тип: invoice, владелец: Геннадий Покемонов, полка хранения: 1\n",
      "№ 10006, тип: insurance, владелец: Аристарх Павлов, полка хранения: 2\n"
     ]
    }
   ],
   "source": [
    "# Пункт 3. Пользователь по команде \"i\" может увидеть полную информацию по всем документам\n",
    "\n",
    "def full_info():\n",
    "    for paper in documents:\n",
    "        doc_num = paper['number']\n",
    "        for shelf, doc in directories.items():\n",
    "            if doc_num in doc:\n",
    "                shelf_num = shelf\n",
    "                print(f\"№ {doc_num}, тип: {paper['type']}, владелец: {paper['name']}, полка хранения: {shelf_num}\")\n",
    "\n",
    "full_info()"
   ]
  },
  {
   "cell_type": "code",
   "execution_count": 6,
   "metadata": {},
   "outputs": [
    {
     "name": "stdout",
     "output_type": "stream",
     "text": [
      "Введите номер полки: 2\n",
      "Такая полка уже существует. Текущий перечень полок:  1, 2, 3\n"
     ]
    }
   ],
   "source": [
    "# Пункт 4. Пользователь по команде \"ads\" может добавить новую полку\n",
    "\n",
    "def new_shelf():\n",
    "    user_input = input('Введите номер полки: ')\n",
    "    if user_input in directories.keys():\n",
    "        print('Такая полка уже существует. Текущий перечень полок: ', \", \".join(directories.keys()))\n",
    "    elif user_input not in directories.keys():\n",
    "        directories[user_input] = []\n",
    "        print('Полка добавлена. Текущий перечень полок: ', \", \".join(directories.keys()))\n",
    "    return\n",
    "\n",
    "new_shelf()"
   ]
  },
  {
   "cell_type": "code",
   "execution_count": 7,
   "metadata": {},
   "outputs": [
    {
     "name": "stdout",
     "output_type": "stream",
     "text": [
      "Введите номер полки: 2\n",
      "На полке есть документы, удалите их перед удалением полки. Текущий перечень полок:  1, 2, 3\n"
     ]
    }
   ],
   "source": [
    "# Пункт 5. Пользователь по команде \"ds\" может удалить существующую полку из данных (только если она пустая)\n",
    "\n",
    "def delete_shelf():\n",
    "    user_input = input('Введите номер полки: ')\n",
    "    if user_input in directories.keys() and directories[user_input] == []:\n",
    "        del directories[user_input]\n",
    "        print('Полка удалена. Текущий перечень полок: ', \", \".join(directories.keys()))\n",
    "    elif user_input in directories.keys() and directories[user_input] != []:\n",
    "        print('На полке есть документы, удалите их перед удалением полки. Текущий перечень полок: ', \", \".join(directories.keys()))\n",
    "    else:\n",
    "        print('Такой полки не существует. Текущий перечень полок: ', \", \".join(directories.keys()))\n",
    "    return\n",
    "        \n",
    "delete_shelf()"
   ]
  },
  {
   "cell_type": "code",
   "execution_count": 8,
   "metadata": {},
   "outputs": [
    {
     "name": "stdout",
     "output_type": "stream",
     "text": [
      "Введите команду: s\n",
      "Введите номер документа: 11-2\n",
      "Документ находится на полке: 1\n",
      "Введите команду: i\n",
      "№ 2207 876234, тип: passport, владелец: Василий Гупкин, полка хранения: 1\n",
      "№ 11-2, тип: invoice, владелец: Геннадий Покемонов, полка хранения: 1\n",
      "№ 10006, тип: insurance, владелец: Аристарх Павлов, полка хранения: 2\n",
      "Введите команду: ads\n",
      "Введите номер полки: 2\n",
      "Такая полка уже существует. Текущий перечень полок:  1, 2, 3\n",
      "Введите команду: вы\n",
      "Введите команду: ds\n",
      "Введите номер полки: 2\n",
      "На полке есть документы, удалите их перед удалением полки. Текущий перечень полок:  1, 2, 3\n",
      "Введите команду: p\n",
      "Введите номер документа: 11-2\n",
      "Владелец документа:  Геннадий Покемонов\n",
      "Введите команду: q\n",
      "До свидания!\n"
     ]
    }
   ],
   "source": [
    "def main():\n",
    "    while True:\n",
    "        user_input = input('Введите команду: ')\n",
    "        if user_input == 'p':\n",
    "            owner_by_number()\n",
    "        elif user_input == 's':\n",
    "            shelf_by_number()\n",
    "        elif user_input == 'i':\n",
    "            full_info()\n",
    "        elif user_input == 'ads':\n",
    "            new_shelf()\n",
    "        elif user_input == 'ds':\n",
    "            delete_shelf()\n",
    "        elif user_input == 'q':\n",
    "            print('Конец программы')\n",
    "            break\n",
    "main()"
   ]
  },
  {
   "cell_type": "code",
   "execution_count": null,
   "metadata": {},
   "outputs": [],
   "source": []
  }
 ],
 "metadata": {
  "kernelspec": {
   "display_name": "Python 3",
   "language": "python",
   "name": "python3"
  },
  "language_info": {
   "codemirror_mode": {
    "name": "ipython",
    "version": 3
   },
   "file_extension": ".py",
   "mimetype": "text/x-python",
   "name": "python",
   "nbconvert_exporter": "python",
   "pygments_lexer": "ipython3",
   "version": "3.8.3"
  }
 },
 "nbformat": 4,
 "nbformat_minor": 4
}
